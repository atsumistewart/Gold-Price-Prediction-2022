{
 "cells": [
  {
   "cell_type": "markdown",
   "id": "6bd9f804",
   "metadata": {},
   "source": [
    "# <font color='blue'> GOLD PRICE PREDICTION: </font> "
   ]
  },
  {
   "cell_type": "markdown",
   "id": "8cd50f08",
   "metadata": {},
   "source": [
    "# <font color='orange'>An attempt to create a 'ML goose' that lays golden eggs </font> "
   ]
  },
  {
   "cell_type": "markdown",
   "id": "179e2ea6",
   "metadata": {},
   "source": [
    "\n",
    " <font color='blue'> ** by Erika Atsumi-Stewart ** </font> "
   ]
  },
  {
   "cell_type": "markdown",
   "id": "da092332",
   "metadata": {},
   "source": [
    "______________________________"
   ]
  },
  {
   "cell_type": "markdown",
   "id": "389a0845",
   "metadata": {},
   "source": [
    "## PROJECT IDEA EXPLAINED"
   ]
  },
  {
   "cell_type": "markdown",
   "id": "40558685",
   "metadata": {},
   "source": [
    "With Machine Learning, can we forecast tomorrow's GOLD PRICE using inputs avaiable today? My first Data Science project attempts to answer this question. "
   ]
  },
  {
   "cell_type": "markdown",
   "id": "4cfee395",
   "metadata": {},
   "source": [
    "What drives GOLD PRICE?\n",
    "\n",
    "Generally, investors turn to GOLD when we expect an economic downturn / shaky equity markets / inflationary environment, and we are looking for a safe-heaven. In economic good times, GOLD is not a great investment as it doesn’t provide any dividend. Moreover, unlike copper, most of physical gold is not 'consumed,' but used as storage of value. The six features are chosen because they are generally considered good indicators of economic health indicator /equity market indicator / inflationary environment."
   ]
  },
  {
   "cell_type": "markdown",
   "id": "190b7aac",
   "metadata": {},
   "source": [
    "With that knowledge, I chose daily data of six independent variables (X) which may explain the movement in GOLD PRICE (y). \n",
    "\n",
    "These variables are \n",
    "\n",
    "1) US Inflation (as expressed in US Consumer Price Index),\n",
    "\n",
    "2) Demand for bonds (as expressed in 5-yr Treasury bond yield),\n",
    "\n",
    "3) Demand for Crypto Currency (as expressed in ETH Ethereum closing price),\n",
    "\n",
    "4) Swiss Franc / USD exchange rate,\n",
    "\n",
    "5) Chinese RMB / USD exchange rate, and \n",
    "\n",
    "6) Oil Price (as expressed in Crude Oil closing price)"
   ]
  },
  {
   "cell_type": "markdown",
   "id": "cb624828",
   "metadata": {},
   "source": [
    "Using historical GOLD PRICE against historical values of the above six features,\n",
    "I tried to run the following four regression models."
   ]
  },
  {
   "cell_type": "markdown",
   "id": "a3ff3c94",
   "metadata": {},
   "source": [
    "1) Decision Tree Regression, \n",
    "\n",
    "2) Random Forest Regression, \n",
    "\n",
    "3) XG Boost Regressor, and \n",
    "\n",
    "4) Multivariable Linear Regression. \n"
   ]
  },
  {
   "cell_type": "markdown",
   "id": "1b6dd72f",
   "metadata": {},
   "source": [
    "Historical data was downloaded from www.NASDAQ.com"
   ]
  },
  {
   "cell_type": "markdown",
   "id": "21faee9b",
   "metadata": {},
   "source": [
    "## CONCLUSION"
   ]
  },
  {
   "cell_type": "markdown",
   "id": "4ff15277",
   "metadata": {},
   "source": [
    "1) Random Forest Regression Model gave the lowest Mean Square Error\n",
    "\n",
    "2) Linear Regression Model gave R-Square of 62% and very large MSE\n",
    "\n",
    "3) The linear regression model's prediction for Jan 14th gold price was off by 3.8%.\n",
    "\n",
    "### as such, we cannot count on my 'ML goose' to lay golden eggs consistently."
   ]
  },
  {
   "cell_type": "markdown",
   "id": "1e3f3e36",
   "metadata": {},
   "source": [
    "## ANALYSIS\n"
   ]
  },
  {
   "cell_type": "markdown",
   "id": "e823af83",
   "metadata": {},
   "source": [
    "First step...\n",
    "\n",
    "## 1) IMPORTING DATA"
   ]
  },
  {
   "cell_type": "code",
   "execution_count": 12,
   "id": "dcc4a38b",
   "metadata": {},
   "outputs": [
    {
     "name": "stdout",
     "output_type": "stream",
     "text": [
      "              GOLD         Volume         Open         High          Low\n",
      "count  2555.000000    2511.000000  2555.000000  2555.000000  2555.000000\n",
      "mean   1426.429393  179509.349263  1426.330607  1435.599687  1416.844775\n",
      "std     240.413982   97554.395160   240.440476   241.942156   238.361554\n",
      "min    1049.600000       1.000000  1051.500000  1062.700000  1045.400000\n",
      "25%    1243.600000  117560.000000  1243.100000  1251.250000  1235.500000\n",
      "50%    1318.900000  164102.000000  1319.700000  1326.600000  1311.200000\n",
      "75%    1649.350000  229346.500000  1649.800000  1662.600000  1637.850000\n",
      "max    2069.400000  787217.000000  2076.400000  2082.100000  2049.000000\n",
      "         Date    GOLD    Volume    Open    High     Low\n",
      "0  01/11/2022  1818.5  165152.0  1801.3  1823.1  1799.7\n",
      "1  01/10/2022  1798.8  153934.0  1796.4  1802.0  1789.3\n",
      "2  01/07/2022  1797.4  218941.0  1791.0  1798.4  1781.3\n",
      "3  01/06/2022  1789.2  233180.0  1810.6  1811.6  1785.4\n",
      "4  01/05/2022  1825.1  167651.0  1815.2  1830.7  1808.2\n",
      "               CPI  Volume         Open         High          Low\n",
      "count  2608.000000     0.0  2608.000000  2608.000000  2608.000000\n",
      "mean      0.167408     NaN     0.167408     0.167408     0.167408\n",
      "std       0.299782     NaN     0.299782     0.299782     0.299782\n",
      "min      -0.800000     NaN    -0.800000    -0.800000    -0.800000\n",
      "25%       0.100000     NaN     0.100000     0.100000     0.100000\n",
      "50%       0.200000     NaN     0.200000     0.200000     0.200000\n",
      "75%       0.300000     NaN     0.300000     0.300000     0.300000\n",
      "max       0.900000     NaN     0.900000     0.900000     0.900000\n",
      "         Date  CPI  Volume  Open  High  Low\n",
      "0  01/11/2022  0.8     NaN   0.8   0.8  0.8\n",
      "1  01/10/2022  0.8     NaN   0.8   0.8  0.8\n",
      "2  01/07/2022  0.8     NaN   0.8   0.8  0.8\n",
      "3  01/06/2022  0.8     NaN   0.8   0.8  0.8\n",
      "4  01/05/2022  0.8     NaN   0.8   0.8  0.8\n",
      "              BOND  Volume         Open         High          Low\n",
      "count  2608.000000     0.0  2608.000000  2608.000000  2608.000000\n",
      "mean      1.446292     NaN     1.446292     1.446292     1.446292\n",
      "std       0.677937     NaN     0.677937     0.677937     0.677937\n",
      "min       0.000000     NaN     0.000000     0.000000     0.000000\n",
      "25%       0.850000     NaN     0.850000     0.850000     0.850000\n",
      "50%       1.480000     NaN     1.480000     1.480000     1.480000\n",
      "75%       1.790000     NaN     1.790000     1.790000     1.790000\n",
      "max       3.090000     NaN     3.090000     3.090000     3.090000\n",
      "         Date  BOND  Volume  Open  High   Low\n",
      "0  01/11/2022  1.51     NaN  1.51  1.51  1.51\n",
      "1  01/10/2022  1.53     NaN  1.53  1.53  1.53\n",
      "2  01/07/2022  1.50     NaN  1.50  1.50  1.50\n",
      "3  01/06/2022  1.47     NaN  1.47  1.47  1.47\n",
      "4  01/05/2022  1.43     NaN  1.43  1.43  1.43\n",
      "            CRYPTO  Volume         Open         High          Low\n",
      "count   974.000000     0.0   974.000000   974.000000   974.000000\n",
      "mean   1240.673840     NaN  1237.860729  1260.635934  1221.163891\n",
      "std    1386.752243     NaN  1386.594779  1407.543083  1366.020848\n",
      "min     116.180000     NaN   116.030000   117.360000    88.500000\n",
      "25%     206.562500     NaN   206.160000   209.770000   204.542500\n",
      "50%     379.360000     NaN   378.215000   384.600000   376.140000\n",
      "75%    2164.110000     NaN  2161.675000  2195.467500  2129.987500\n",
      "max    4796.780000     NaN  4805.340000  4813.620000  4778.900000\n",
      "         Date   CRYPTO  Volume     Open     High      Low\n",
      "0  01/11/2022  3224.57     NaN  3119.65  3259.32  3219.98\n",
      "1  01/10/2022  3112.72     NaN  3176.73  3126.88  3053.40\n",
      "2  01/09/2022  3194.42     NaN  3080.68  3210.34  3060.47\n",
      "3  01/08/2022  3132.94     NaN  3219.66  3145.28  3060.47\n",
      "4  01/07/2022  3224.46     NaN  3217.36  3241.77  3184.12\n",
      "       CHINA EX RATE      Volume         Open         High          Low\n",
      "count    2554.000000  566.000000  2554.000000  2554.000000  2554.000000\n",
      "mean        0.153005   11.220848     0.153421     0.153435     0.153399\n",
      "std         0.007618   25.706836     0.019690     0.019691     0.019680\n",
      "min         0.001400    1.000000     0.115540     0.115540     0.115540\n",
      "25%         0.146677    1.000000     0.146723     0.146723     0.146703\n",
      "50%         0.154040    3.000000     0.154040     0.154040     0.154040\n",
      "75%         0.158838    8.000000     0.158850     0.158850     0.158820\n",
      "max         0.164210  220.000000     1.083100     1.083100     1.082700\n",
      "         Date  CHINA EX RATE  Volume     Open     High      Low\n",
      "0  01/11/2022        0.15624     NaN  0.15624  0.15624  0.15624\n",
      "1  01/10/2022        0.15618     NaN  0.15618  0.15618  0.15618\n",
      "2  01/07/2022        0.15604     NaN  0.15604  0.15604  0.15604\n",
      "3  01/06/2022        0.15575     NaN  0.15575  0.15575  0.15575\n",
      "4  01/05/2022        0.15689     NaN  0.15689  0.15689  0.15689\n",
      "       SWISS EX RATE  Volume        Open        High         Low\n",
      "count     826.000000     0.0  826.000000  826.000000  826.000000\n",
      "mean        0.941763     NaN    0.941645    0.943239    0.940439\n",
      "std         0.036469     NaN    0.036561    0.036510    0.036503\n",
      "min         0.878500     NaN    0.878300    0.879700    0.877100\n",
      "25%         0.913350     NaN    0.912725    0.914900    0.911925\n",
      "50%         0.927450     NaN    0.927200    0.929050    0.925900\n",
      "75%         0.976375     NaN    0.976275    0.978100    0.974775\n",
      "max         1.020900     NaN    1.020000    1.021500    1.020000\n",
      "         Date  SWISS EX RATE  Volume    Open    High     Low\n",
      "0  01/11/2022         0.9234     NaN  0.9230  0.9242  0.9232\n",
      "1  01/10/2022         0.9265     NaN  0.9272  0.9280  0.9262\n",
      "2  01/09/2022         0.9198     NaN  0.9188  0.9232  0.9183\n",
      "3  01/07/2022         0.9185     NaN  0.9211  0.9232  0.9183\n",
      "4  01/06/2022         0.9214     NaN  0.9211  0.9219  0.9209\n",
      "               OIL        Volume         Open         High          Low\n",
      "count  2555.000000  2.516000e+03  2555.000000  2555.000000  2555.000000\n",
      "mean     65.929323  3.901174e+05    65.934243    66.773871    65.036462\n",
      "std      22.380918  2.360709e+05    22.368440    22.343571    22.356228\n",
      "min     -37.630000  1.530000e+02   -37.250000   -35.200000   -40.320000\n",
      "25%      48.655000  2.178385e+05    48.695000    49.325000    47.825000\n",
      "50%      59.840000  3.542790e+05    59.830000    60.640000    58.930000\n",
      "75%      88.210000  5.560775e+05    88.050000    89.070000    87.330000\n",
      "max     110.530000  1.693652e+06   110.280000   110.700000   110.050000\n",
      "         Date    OIL    Volume   Open   High    Low\n",
      "0  01/11/2022  81.22  442359.0  78.42  81.59  78.36\n",
      "1  01/10/2022  78.23  356260.0  78.88  79.45  77.83\n",
      "2  01/07/2022  78.90  383363.0  79.62  80.47  78.52\n",
      "3  01/06/2022  79.46  457889.0  77.24  80.24  76.73\n",
      "4  01/05/2022  77.85  379035.0  77.18  78.58  76.51\n"
     ]
    }
   ],
   "source": [
    "import pandas as pd\n",
    "import numpy as np\n",
    "import matplotlib.pyplot as plt\n",
    "import seaborn as sns\n",
    "\n",
    "#Historical Gold Price\n",
    "Gold_price = pd.read_csv('GC CMX GOLD HistoricalData.csv')\n",
    "Gold_price = Gold_price.rename(columns={'Close/Last':'GOLD'})\n",
    "print(Gold_price.describe())\n",
    "print(Gold_price.head())\n",
    "\n",
    "#Feature 1: US Inflation (US Consumer Price Index)\n",
    "US_CPI = pd.read_csv('USCPI HistoricalData.csv')\n",
    "US_CPI = US_CPI.rename(columns={'Close/Last':'CPI'})\n",
    "print(US_CPI.describe())\n",
    "print(US_CPI.head())\n",
    "\n",
    "#Feature 2: Bond Market (5-yr Treasury Bond)\n",
    "Treasury = pd.read_csv('CMTN5Y (5yr Constant Maturity Treasury) HistoricalData.csv')\n",
    "Treasury = Treasury.rename(columns={'Close/Last':'BOND'})\n",
    "print(Treasury.describe())\n",
    "print(Treasury.head())\n",
    "\n",
    "#Feature 3: Cryptocurrency (Ethereum) \n",
    "Cryptocurrency = pd.read_csv('ETH Ethereum HistoricalData.csv')\n",
    "Cryptocurrency = Cryptocurrency.rename(columns={'Close/Last':'CRYPTO'})\n",
    "print(Cryptocurrency.describe())\n",
    "print(Cryptocurrency.head())\n",
    "\n",
    "#Feature 4: Exchange Rate (Chinese RMB Futures/US$)  \n",
    "RMB = pd.read_csv('RMB Futures HistoricalData.csv')\n",
    "RMB = RMB.rename(columns={'Close/Last':'CHINA EX RATE'})\n",
    "print(RMB.describe())\n",
    "print(RMB.head())\n",
    "\n",
    "#Feature 5: Exchange Rate (Swiss Franc/US$)  \n",
    "SwissF = pd.read_csv('USDCHF Swiss Franc HistoricalData.csv')\n",
    "SwissF = SwissF.rename(columns={'Close/Last':'SWISS EX RATE'})\n",
    "print(SwissF.describe())\n",
    "print(SwissF.head())\n",
    "\n",
    "#Feature 6: Oil Price (Crude Oil price)  \n",
    "Crude_Oil = pd.read_csv('CL NMX (Crude oil) HistoricalData.csv')\n",
    "Crude_Oil = Crude_Oil.rename(columns={'Close/Last':'OIL'})\n",
    "print(Crude_Oil.describe())\n",
    "print(Crude_Oil.head())"
   ]
  },
  {
   "cell_type": "markdown",
   "id": "3543329f",
   "metadata": {},
   "source": [
    "## 2) PUTTING ALL DATA INTO A SINGLE DATAFRAME MATCHED BY DATE "
   ]
  },
  {
   "cell_type": "code",
   "execution_count": 13,
   "id": "affc2314",
   "metadata": {},
   "outputs": [
    {
     "name": "stdout",
     "output_type": "stream",
     "text": [
      "            Date    GOLD  CPI  BOND   CRYPTO  CHINA EX RATE  SWISS EX RATE  \\\n",
      "0     01/11/2022  1818.5  0.8  1.51  3224.57        0.15624         0.9234   \n",
      "1     01/10/2022  1798.8  0.8  1.53  3112.72        0.15618         0.9265   \n",
      "2     01/07/2022  1797.4  0.8  1.50  3224.46        0.15604         0.9185   \n",
      "3     01/06/2022  1789.2  0.8  1.47  3205.80        0.15575         0.9214   \n",
      "4     01/05/2022  1825.1  0.8  1.43  3443.32        0.15689         0.9174   \n",
      "...          ...     ...  ...   ...      ...            ...            ...   \n",
      "2550  01/18/2012  1659.9 -0.1  0.82      NaN        0.15885            NaN   \n",
      "2551  01/17/2012  1655.6 -0.1  0.79      NaN        0.15883            NaN   \n",
      "2552  01/16/2012  1630.8 -0.1  0.80      NaN        0.15851            NaN   \n",
      "2553  01/13/2012  1630.8 -0.1  0.80      NaN        0.15851            NaN   \n",
      "2554  01/12/2012  1647.7 -0.1  0.84      NaN        0.15850            NaN   \n",
      "\n",
      "         OIL  \n",
      "0      81.22  \n",
      "1      78.23  \n",
      "2      78.90  \n",
      "3      79.46  \n",
      "4      77.85  \n",
      "...      ...  \n",
      "2550  100.59  \n",
      "2551  100.71  \n",
      "2552   98.70  \n",
      "2553   98.70  \n",
      "2554   99.10  \n",
      "\n",
      "[2555 rows x 8 columns]\n"
     ]
    }
   ],
   "source": [
    "SINGLE = pd.merge(Gold_price, US_CPI, left_on='Date', right_on='Date', how = 'left')\n",
    "SINGLE = pd.merge(SINGLE, Treasury,left_on='Date', right_on='Date', how = 'left')\n",
    "SINGLE = pd.merge(SINGLE, Cryptocurrency,left_on='Date', right_on='Date', how = 'left')\n",
    "SINGLE = pd.merge(SINGLE, RMB,left_on='Date', right_on='Date', how = 'left')\n",
    "SINGLE = pd.merge(SINGLE, SwissF,left_on='Date', right_on='Date', how = 'left')\n",
    "SINGLE = pd.merge(SINGLE, Crude_Oil,left_on='Date', right_on='Date', how = 'left')\n",
    "SINGLE = SINGLE[['Date','GOLD', 'CPI', 'BOND','CRYPTO','CHINA EX RATE','SWISS EX RATE','OIL']]\n",
    "print(SINGLE)"
   ]
  },
  {
   "cell_type": "markdown",
   "id": "350a28b8",
   "metadata": {},
   "source": [
    "## 3) DATA CLEAN UP\n",
    "\n",
    "1) I dropped all 'NaN' and outlier oil prices \n",
    "\n",
    "2) I noticed negative numbers for cruce oil prices which do not make sense. \n",
    "\n",
    "3) I also noticed determined that curide oil prices below $10 in thin trading volume\n",
    "day are outliers.\n",
    "\n",
    "2) and 3) were eliminated."
   ]
  },
  {
   "cell_type": "code",
   "execution_count": 14,
   "id": "edb14b28",
   "metadata": {},
   "outputs": [
    {
     "name": "stdout",
     "output_type": "stream",
     "text": [
      "           Date    GOLD  CPI  BOND   CRYPTO  CHINA EX RATE  SWISS EX RATE  \\\n",
      "0    01/11/2022  1818.5  0.8  1.51  3224.57        0.15624         0.9234   \n",
      "1    01/10/2022  1798.8  0.8  1.53  3112.72        0.15618         0.9265   \n",
      "2    01/07/2022  1797.4  0.8  1.50  3224.46        0.15604         0.9185   \n",
      "3    01/06/2022  1789.2  0.8  1.47  3205.80        0.15575         0.9214   \n",
      "4    01/05/2022  1825.1  0.8  1.43  3443.32        0.15689         0.9174   \n",
      "..          ...     ...  ...   ...      ...            ...            ...   \n",
      "714  03/14/2019  1293.4  0.2  2.43   132.61        0.14869         1.0038   \n",
      "715  03/13/2019  1309.3  0.2  2.42   132.06        0.14899         1.0046   \n",
      "716  03/12/2019  1296.3  0.2  2.41   133.80        0.14896         1.0076   \n",
      "717  03/11/2019  1291.1 -0.1  2.44   133.42        0.14843         1.0105   \n",
      "718  03/08/2019  1299.3 -0.1  2.42   133.85        0.14842         1.0080   \n",
      "\n",
      "       OIL  \n",
      "0    81.22  \n",
      "1    78.23  \n",
      "2    78.90  \n",
      "3    79.46  \n",
      "4    77.85  \n",
      "..     ...  \n",
      "714  58.61  \n",
      "715  58.26  \n",
      "716  56.87  \n",
      "717  56.79  \n",
      "718  56.07  \n",
      "\n",
      "[671 rows x 8 columns]\n",
      "<bound method DataFrame.info of            Date    GOLD  CPI  BOND   CRYPTO  CHINA EX RATE  SWISS EX RATE  \\\n",
      "0    01/11/2022  1818.5  0.8  1.51  3224.57        0.15624         0.9234   \n",
      "1    01/10/2022  1798.8  0.8  1.53  3112.72        0.15618         0.9265   \n",
      "2    01/07/2022  1797.4  0.8  1.50  3224.46        0.15604         0.9185   \n",
      "3    01/06/2022  1789.2  0.8  1.47  3205.80        0.15575         0.9214   \n",
      "4    01/05/2022  1825.1  0.8  1.43  3443.32        0.15689         0.9174   \n",
      "..          ...     ...  ...   ...      ...            ...            ...   \n",
      "714  03/14/2019  1293.4  0.2  2.43   132.61        0.14869         1.0038   \n",
      "715  03/13/2019  1309.3  0.2  2.42   132.06        0.14899         1.0046   \n",
      "716  03/12/2019  1296.3  0.2  2.41   133.80        0.14896         1.0076   \n",
      "717  03/11/2019  1291.1 -0.1  2.44   133.42        0.14843         1.0105   \n",
      "718  03/08/2019  1299.3 -0.1  2.42   133.85        0.14842         1.0080   \n",
      "\n",
      "       OIL  \n",
      "0    81.22  \n",
      "1    78.23  \n",
      "2    78.90  \n",
      "3    79.46  \n",
      "4    77.85  \n",
      "..     ...  \n",
      "714  58.61  \n",
      "715  58.26  \n",
      "716  56.87  \n",
      "717  56.79  \n",
      "718  56.07  \n",
      "\n",
      "[669 rows x 8 columns]>\n",
      "(669, 8)\n",
      "              GOLD         CPI        BOND       CRYPTO  CHINA EX RATE  \\\n",
      "count   669.000000  669.000000  669.000000   669.000000     669.000000   \n",
      "mean   1704.019731    0.311659    0.962990  1247.378311       0.148225   \n",
      "std     183.150641    0.342781    0.576427  1390.774415       0.005939   \n",
      "min    1273.200000   -0.800000    0.190000   116.180000       0.138880   \n",
      "25%    1549.200000    0.100000    0.390000   207.470000       0.142580   \n",
      "50%    1766.400000    0.300000    0.830000   379.950000       0.147040   \n",
      "75%    1831.300000    0.600000    1.480000  2182.630000       0.154150   \n",
      "max    2069.400000    0.900000    2.440000  4796.780000       0.157390   \n",
      "\n",
      "       SWISS EX RATE         OIL  \n",
      "count     669.000000  669.000000  \n",
      "mean        0.941946   54.980897  \n",
      "std         0.036361   14.984113  \n",
      "min         0.878500   12.340000  \n",
      "25%         0.913500   42.340000  \n",
      "50%         0.927400   56.790000  \n",
      "75%         0.976300   65.460000  \n",
      "max         1.020900   84.650000  \n"
     ]
    }
   ],
   "source": [
    "# 1) Eliminateing Rows with NaNs \n",
    "SINGLE = SINGLE.dropna(axis=0)\n",
    "print(SINGLE) #Dataset became much smaller\n",
    "\n",
    "# 2) Eliminating rows when data in 'OIL' column is negative\n",
    "SINGLE = SINGLE[(SINGLE.OIL > 10)]\n",
    "print(SINGLE.info)\n",
    "print(SINGLE.shape)\n",
    "print(SINGLE.describe()) "
   ]
  },
  {
   "cell_type": "markdown",
   "id": "cf771174",
   "metadata": {},
   "source": [
    "After clean up, data from early March 2019 to early Jan 2022 are chosen for analysis, with 669 rows of data"
   ]
  },
  {
   "cell_type": "markdown",
   "id": "c97862a0",
   "metadata": {},
   "source": [
    "## 4) EXPLORING CORRELATION"
   ]
  },
  {
   "cell_type": "code",
   "execution_count": 15,
   "id": "0a9cd4c3",
   "metadata": {},
   "outputs": [
    {
     "data": {
      "image/png": "[encoded data removed]",
      "text/plain": [
       "<Figure size 720x360 with 2 Axes>"
      ]
     },
     "metadata": {
      "needs_background": "light"
     },
     "output_type": "display_data"
    },
    {
     "name": "stdout",
     "output_type": "stream",
     "text": [
      "GOLD             1.000000\n",
      "CPI              0.322871\n",
      "BOND            -0.848486\n",
      "CRYPTO           0.409482\n",
      "CHINA EX RATE    0.500510\n",
      "SWISS EX RATE   -0.905170\n",
      "OIL             -0.042710\n",
      "Name: GOLD, dtype: float64 \n",
      "\n"
     ]
    }
   ],
   "source": [
    "cor = SINGLE.corr()\n",
    "fig = plt.figure(figsize=(10,5))\n",
    "sns.heatmap(cor, annot= True)\n",
    "plt.show()\n",
    "\n",
    "print(cor['GOLD'], '\\n')"
   ]
  },
  {
   "cell_type": "markdown",
   "id": "b0653e40",
   "metadata": {},
   "source": [
    "Interestingly, Bond Prices and Swiss Frank-to-US$ Exchange Rates are highly correlated to Gold Prices.  "
   ]
  },
  {
   "cell_type": "markdown",
   "id": "a9201b5d",
   "metadata": {},
   "source": [
    "Bond is a 5-yr yield (inverse to bond price), so it is inversely related to Gold price.\n",
    "Swiss Ex rate (CHF/US$) is inverversely related to Gold price as weaker CHF \n",
    "means less demand for CHF, and investors are not looking for safety."
   ]
  },
  {
   "cell_type": "markdown",
   "id": "36ea9c4b",
   "metadata": {},
   "source": [
    "## 5) ASSIGNING DEPENDENT (y) AND INDEPENDENT (X) VARIABLES TO USE WITH MODELS "
   ]
  },
  {
   "cell_type": "code",
   "execution_count": 16,
   "id": "e867b8f3",
   "metadata": {},
   "outputs": [
    {
     "name": "stdout",
     "output_type": "stream",
     "text": [
      "0    1818.5\n",
      "1    1798.8\n",
      "2    1797.4\n",
      "3    1789.2\n",
      "4    1825.1\n",
      "Name: GOLD, dtype: float64\n",
      "   CPI  BOND   CRYPTO  CHINA EX RATE  SWISS EX RATE    OIL\n",
      "0  0.8  1.51  3224.57        0.15624         0.9234  81.22\n",
      "1  0.8  1.53  3112.72        0.15618         0.9265  78.23\n",
      "2  0.8  1.50  3224.46        0.15604         0.9185  78.90\n",
      "3  0.8  1.47  3205.80        0.15575         0.9214  79.46\n",
      "4  0.8  1.43  3443.32        0.15689         0.9174  77.85\n",
      "(669, 6)\n"
     ]
    }
   ],
   "source": [
    "y=SINGLE.GOLD\n",
    "print(y.head())\n",
    "SINGLE_features = ['CPI', 'BOND','CRYPTO','CHINA EX RATE','SWISS EX RATE','OIL']\n",
    "X=SINGLE[SINGLE_features]\n",
    "print(X.head())\n",
    "print(X.shape)"
   ]
  },
  {
   "cell_type": "markdown",
   "id": "b4a54409",
   "metadata": {},
   "source": [
    "## 5a) SHIFTING INPUT (FEATURES) BY 1 DAY SO THE MODEL MAY USE YESTERDAY'S INPUTS TO FORECAST TODAY'S GOLD PRICE "
   ]
  },
  {
   "cell_type": "code",
   "execution_count": 17,
   "id": "58b7905e",
   "metadata": {},
   "outputs": [
    {
     "name": "stdout",
     "output_type": "stream",
     "text": [
      "\n",
      "Shifted Dataframe\n",
      "   CPI  BOND   CRYPTO  CHINA EX RATE  SWISS EX RATE    OIL\n",
      "0  NaN   NaN      NaN            NaN            NaN    NaN\n",
      "1  0.8  1.51  3224.57        0.15624         0.9234  81.22\n",
      "2  0.8  1.53  3112.72        0.15618         0.9265  78.23\n",
      "3  0.8  1.50  3224.46        0.15604         0.9185  78.90\n",
      "4  0.8  1.47  3205.80        0.15575         0.9214  79.46\n",
      "\n",
      "Shifted Dataframe without NaN\n",
      "   CPI  BOND   CRYPTO  CHINA EX RATE  SWISS EX RATE    OIL\n",
      "0  0.8  1.51  3224.57        0.15624         0.9234  81.22\n",
      "1  0.8  1.51  3224.57        0.15624         0.9234  81.22\n",
      "2  0.8  1.53  3112.72        0.15618         0.9265  78.23\n",
      "3  0.8  1.50  3224.46        0.15604         0.9185  78.90\n",
      "4  0.8  1.47  3205.80        0.15575         0.9214  79.46\n"
     ]
    }
   ],
   "source": [
    "X = X.shift(periods=1)\n",
    "print('\\nShifted Dataframe')\n",
    "print(X.head())\n",
    "\n",
    "X = X.fillna(method='ffill').fillna(method='bfill')\n",
    "# Fills NaN with one before or one after NaN\n",
    "print('\\nShifted Dataframe without NaN')\n",
    "print(X.head())"
   ]
  },
  {
   "cell_type": "markdown",
   "id": "e60cf50e",
   "metadata": {},
   "source": [
    "## 6) BUILDING MODEL No.1 : DECISION TREE REGRESSOR  "
   ]
  },
  {
   "cell_type": "code",
   "execution_count": 18,
   "id": "0648d946",
   "metadata": {},
   "outputs": [
    {
     "data": {
      "text/plain": [
       "DecisionTreeRegressor(random_state=0)"
      ]
     },
     "execution_count": 18,
     "metadata": {},
     "output_type": "execute_result"
    }
   ],
   "source": [
    "from sklearn.tree import DecisionTreeRegressor\n",
    "SINGLE_model = DecisionTreeRegressor(random_state=0)\n",
    "SINGLE_model.fit(X,y)"
   ]
  },
  {
   "cell_type": "markdown",
   "id": "590039a1",
   "metadata": {},
   "source": [
    "## 6a) SPLITTIG DATASET INTO TRAINING AND TESTING DATASETS FOR DECISION TREE REGRESSOR"
   ]
  },
  {
   "cell_type": "code",
   "execution_count": 19,
   "id": "913588a3",
   "metadata": {},
   "outputs": [
    {
     "name": "stdout",
     "output_type": "stream",
     "text": [
      "135.7394957983193\n"
     ]
    }
   ],
   "source": [
    "from sklearn.model_selection import train_test_split\n",
    "from sklearn.metrics import mean_absolute_error\n",
    "\n",
    "# For time series, splitting the data randomly doesn't make sense. \n",
    "# Here, I train the model using first 550 days of data (roughly a 82%-18% split).   \n",
    "\n",
    "# cut_off = 550\n",
    "train_X = X.iloc[0:550]\n",
    "train_y = y.iloc[0:550]\n",
    "val_X = X.iloc[550:]\n",
    "val_y = y.iloc[550:]  \n",
    "      \n",
    "SINGLE_model = DecisionTreeRegressor()\n",
    "SINGLE_model.fit(train_X,train_y)\n",
    "\n",
    "val_predictions = SINGLE_model.predict(val_X)\n",
    "print(mean_absolute_error(val_y, val_predictions))"
   ]
  },
  {
   "cell_type": "markdown",
   "id": "a78e4e98",
   "metadata": {},
   "source": [
    "## 6b) DETERMINING THE OPTIMAL TREE DEPTH FOR DECISION TREE REGRESSOR "
   ]
  },
  {
   "cell_type": "code",
   "execution_count": 20,
   "id": "84db0ce9",
   "metadata": {},
   "outputs": [
    {
     "name": "stdout",
     "output_type": "stream",
     "text": [
      "Max leaf nodes: 5 \t\t Mean Absolute Error: 129\n",
      "Max leaf nodes: 50 \t\t Mean Absolute Error: 126\n",
      "Max leaf nodes: 500 \t\t Mean Absolute Error: 126\n",
      "Max leaf nodes: 5000 \t\t Mean Absolute Error: 126\n",
      "Max leaf nodes: 50000 \t\t Mean Absolute Error: 126\n"
     ]
    }
   ],
   "source": [
    "def get_mae(max_leaf_nodes, train_X, val_X, train_y, val_y):\n",
    "    model = DecisionTreeRegressor(max_leaf_nodes=max_leaf_nodes, random_state=0)\n",
    "    model.fit(train_X, train_y)\n",
    "    preds_val=model.predict(val_X)\n",
    "    mae=mean_absolute_error(val_y, preds_val)\n",
    "    return(mae)\n",
    "for max_leaf_nodes in [5, 50, 500, 5000, 50000]:\n",
    "    my_mae= get_mae(max_leaf_nodes, train_X, val_X, train_y, val_y)\n",
    "    print(\"Max leaf nodes: %d \\t\\t Mean Absolute Error: %d\" %(max_leaf_nodes, my_mae))\n"
   ]
  },
  {
   "cell_type": "markdown",
   "id": "da2f6b89",
   "metadata": {},
   "source": [
    "LOOKS LIKE 500 IS OK TO USE AS AN IDEAL TREE SIZE "
   ]
  },
  {
   "cell_type": "markdown",
   "id": "56c80135",
   "metadata": {},
   "source": [
    "## 6c) SPLITTIG DATASET INTO TRAINING AND TESTING DATASETS USING 500 LEAF NODES FOR IMPROVED DECISION TREE REGRESSION MODEL"
   ]
  },
  {
   "cell_type": "code",
   "execution_count": 21,
   "id": "b5bd046b",
   "metadata": {},
   "outputs": [
    {
     "name": "stdout",
     "output_type": "stream",
     "text": [
      "126.4285714285714\n"
     ]
    }
   ],
   "source": [
    "from sklearn.model_selection import train_test_split\n",
    "from sklearn.metrics import mean_absolute_error\n",
    "\n",
    "# cut_off = 550\n",
    "train_X = X.iloc[0:550]\n",
    "train_y = y.iloc[0:550]\n",
    "val_X = X.iloc[550:]\n",
    "val_y = y.iloc[550:]  \n",
    "\n",
    "\n",
    "SINGLE_model = DecisionTreeRegressor(max_leaf_nodes=500, random_state=0)\n",
    "SINGLE_model.fit(train_X,train_y)\n",
    "\n",
    "val_predictions = SINGLE_model.predict(val_X)\n",
    "print(mean_absolute_error(val_y, val_predictions))"
   ]
  },
  {
   "cell_type": "markdown",
   "id": "76f6e2a7",
   "metadata": {},
   "source": [
    "MAE is REDUCED a little from 135.7 to 126.4!"
   ]
  },
  {
   "cell_type": "markdown",
   "id": "d59be5d2",
   "metadata": {},
   "source": [
    "## 6d) FIT DECISION TREE REGRESSOR MODEL USING ALL DATA "
   ]
  },
  {
   "cell_type": "code",
   "execution_count": 22,
   "id": "85615a54",
   "metadata": {},
   "outputs": [
    {
     "name": "stdout",
     "output_type": "stream",
     "text": [
      "0.3445640259093184\n"
     ]
    }
   ],
   "source": [
    "SINGLE_final_model = DecisionTreeRegressor(max_leaf_nodes=500, random_state=0)\n",
    "SINGLE_final_model.fit(X,y)\n",
    "\n",
    "predictions = SINGLE_final_model.predict(X)\n",
    "print(mean_absolute_error(y, predictions))"
   ]
  },
  {
   "cell_type": "markdown",
   "id": "8e7fe9ae",
   "metadata": {},
   "source": [
    "## 6e) EXPLAINING THE DECISION TREE REGRESSOR MODEL USING SHAP"
   ]
  },
  {
   "cell_type": "code",
   "execution_count": 23,
   "id": "8b659f31",
   "metadata": {},
   "outputs": [
    {
     "name": "stdout",
     "output_type": "stream",
     "text": [
      "Requirement already satisfied: SHAP in /Users/erikaatsumi-stewart/opt/anaconda3/lib/python3.8/site-packages (0.40.0)\n",
      "Requirement already satisfied: packaging>20.9 in /Users/erikaatsumi-stewart/opt/anaconda3/lib/python3.8/site-packages (from SHAP) (21.3)\n",
      "Requirement already satisfied: numba in /Users/erikaatsumi-stewart/opt/anaconda3/lib/python3.8/site-packages (from SHAP) (0.53.1)\n",
      "Requirement already satisfied: numpy in /Users/erikaatsumi-stewart/opt/anaconda3/lib/python3.8/site-packages (from SHAP) (1.20.1)\n",
      "Requirement already satisfied: scikit-learn in /Users/erikaatsumi-stewart/opt/anaconda3/lib/python3.8/site-packages (from SHAP) (0.24.1)\n",
      "Requirement already satisfied: scipy in /Users/erikaatsumi-stewart/opt/anaconda3/lib/python3.8/site-packages (from SHAP) (1.6.2)\n",
      "Requirement already satisfied: cloudpickle in /Users/erikaatsumi-stewart/opt/anaconda3/lib/python3.8/site-packages (from SHAP) (1.6.0)\n",
      "Requirement already satisfied: tqdm>4.25.0 in /Users/erikaatsumi-stewart/opt/anaconda3/lib/python3.8/site-packages (from SHAP) (4.59.0)\n",
      "Requirement already satisfied: slicer==0.0.7 in /Users/erikaatsumi-stewart/opt/anaconda3/lib/python3.8/site-packages (from SHAP) (0.0.7)\n",
      "Requirement already satisfied: pandas in /Users/erikaatsumi-stewart/opt/anaconda3/lib/python3.8/site-packages (from SHAP) (1.2.4)\n",
      "Requirement already satisfied: pyparsing!=3.0.5,>=2.0.2 in /Users/erikaatsumi-stewart/opt/anaconda3/lib/python3.8/site-packages (from packaging>20.9->SHAP) (2.4.7)\n",
      "Requirement already satisfied: llvmlite<0.37,>=0.36.0rc1 in /Users/erikaatsumi-stewart/opt/anaconda3/lib/python3.8/site-packages (from numba->SHAP) (0.36.0)\n",
      "Requirement already satisfied: setuptools in /Users/erikaatsumi-stewart/opt/anaconda3/lib/python3.8/site-packages (from numba->SHAP) (52.0.0.post20210125)\n",
      "Requirement already satisfied: python-dateutil>=2.7.3 in /Users/erikaatsumi-stewart/opt/anaconda3/lib/python3.8/site-packages (from pandas->SHAP) (2.8.1)\n",
      "Requirement already satisfied: pytz>=2017.3 in /Users/erikaatsumi-stewart/opt/anaconda3/lib/python3.8/site-packages (from pandas->SHAP) (2021.1)\n",
      "Requirement already satisfied: six>=1.5 in /Users/erikaatsumi-stewart/opt/anaconda3/lib/python3.8/site-packages (from python-dateutil>=2.7.3->pandas->SHAP) (1.15.0)\n",
      "Requirement already satisfied: threadpoolctl>=2.0.0 in /Users/erikaatsumi-stewart/opt/anaconda3/lib/python3.8/site-packages (from scikit-learn->SHAP) (2.1.0)\n",
      "Requirement already satisfied: joblib>=0.11 in /Users/erikaatsumi-stewart/opt/anaconda3/lib/python3.8/site-packages (from scikit-learn->SHAP) (1.0.1)\n"
     ]
    }
   ],
   "source": [
    "!pip install SHAP"
   ]
  },
  {
   "cell_type": "markdown",
   "id": "f898d83f",
   "metadata": {},
   "source": [
    "Here, I tried to play with SHAP to understand the Tree Regressor Model result better.. "
   ]
  },
  {
   "cell_type": "code",
   "execution_count": 24,
   "id": "916d5018",
   "metadata": {},
   "outputs": [
    {
     "data": {
      "image/png": "[encoded data removed]",
      "text/plain": [
       "<Figure size 576x280.8 with 2 Axes>"
      ]
     },
     "metadata": {
      "needs_background": "light"
     },
     "output_type": "display_data"
    }
   ],
   "source": [
    "import shap\n",
    "# explain the model's predictions using SHAP values\n",
    "explainer = shap.Explainer(SINGLE_final_model, train_X)\n",
    "shap_values = explainer(val_X)\n",
    "shap.plots.beeswarm(shap_values, max_display=20)"
   ]
  },
  {
   "cell_type": "markdown",
   "id": "7ac73a9a",
   "metadata": {},
   "source": [
    "The above Beeswarm summary plot indicates that SWISS EX RATE (Swiss Franc-USD Exchange Rate) is the most important feature on average, followed by BOND PRICE. Spot CPI has the least important feature among the six feature variables."
   ]
  },
  {
   "cell_type": "code",
   "execution_count": 25,
   "id": "73485362",
   "metadata": {},
   "outputs": [
    {
     "data": {
      "image/png": "[encoded data removed]",
      "text/plain": [
       "<Figure size 576x324 with 1 Axes>"
      ]
     },
     "metadata": {},
     "output_type": "display_data"
    }
   ],
   "source": [
    "shap.plots.bar(shap_values.abs.mean(0))"
   ]
  },
  {
   "cell_type": "markdown",
   "id": "76e4b871",
   "metadata": {},
   "source": [
    "The above bar chart shows the absolute value."
   ]
  },
  {
   "cell_type": "markdown",
   "id": "eda5ba7e",
   "metadata": {},
   "source": [
    "## 7) BUILDING MODEL No.2: RANDOM FOREST REGRESSOR  "
   ]
  },
  {
   "cell_type": "code",
   "execution_count": 26,
   "id": "741539f1",
   "metadata": {},
   "outputs": [
    {
     "data": {
      "text/plain": [
       "RandomForestRegressor(random_state=0)"
      ]
     },
     "execution_count": 26,
     "metadata": {},
     "output_type": "execute_result"
    }
   ],
   "source": [
    "from sklearn.ensemble import RandomForestRegressor\n",
    "\n",
    "SINGLE_random_model = RandomForestRegressor(random_state=0)\n",
    "SINGLE_random_model.fit(X,y)\n"
   ]
  },
  {
   "cell_type": "markdown",
   "id": "2a4c8dc5",
   "metadata": {},
   "source": [
    "## 7a) SPLITTIG DATASET INTO TRAINING AND TESTING DATASETS FOR RANDOM FOREST REGRESSOR"
   ]
  },
  {
   "cell_type": "code",
   "execution_count": 27,
   "id": "55afdf1b",
   "metadata": {},
   "outputs": [
    {
     "name": "stdout",
     "output_type": "stream",
     "text": [
      "115.36468907563075\n"
     ]
    }
   ],
   "source": [
    "from sklearn.model_selection import train_test_split\n",
    "from sklearn.metrics import mean_absolute_error\n",
    "\n",
    "# cut_off = 550\n",
    "train_X = X.iloc[0:550]\n",
    "train_y = y.iloc[0:550]\n",
    "val_X = X.iloc[550:]\n",
    "val_y = y.iloc[550:]  \n",
    "    \n",
    "SINGLE_random_model = RandomForestRegressor()\n",
    "SINGLE_random_model.fit(train_X,train_y)\n",
    "\n",
    "val_predictions = SINGLE_random_model.predict(val_X)\n",
    "print(mean_absolute_error(val_y, val_predictions))"
   ]
  },
  {
   "cell_type": "markdown",
   "id": "9349a124",
   "metadata": {},
   "source": [
    "## 7b) FIT RANDOM FOREST REGRESSOR MODEL USING ALL DATA "
   ]
  },
  {
   "cell_type": "code",
   "execution_count": 28,
   "id": "c581511c",
   "metadata": {},
   "outputs": [
    {
     "name": "stdout",
     "output_type": "stream",
     "text": [
      "6.176882785251603\n"
     ]
    }
   ],
   "source": [
    "SINGLE_random_model = RandomForestRegressor(max_leaf_nodes=500, random_state=0)\n",
    "SINGLE_random_model.fit(X,y)\n",
    "\n",
    "predictions = SINGLE_random_model.predict(X)\n",
    "print(mean_absolute_error(y, predictions))"
   ]
  },
  {
   "cell_type": "markdown",
   "id": "1a72f247",
   "metadata": {},
   "source": [
    "## 8) BUILDING MODEL No.3:  XG BOOST REGRESSOR "
   ]
  },
  {
   "cell_type": "markdown",
   "id": "be01adad",
   "metadata": {},
   "source": [
    "Installing XGBOOST "
   ]
  },
  {
   "cell_type": "code",
   "execution_count": 29,
   "id": "2c031482",
   "metadata": {},
   "outputs": [
    {
     "name": "stdout",
     "output_type": "stream",
     "text": [
      "Requirement already satisfied: xgboost in /Users/erikaatsumi-stewart/opt/anaconda3/lib/python3.8/site-packages (1.5.1)\r\n",
      "Requirement already satisfied: numpy in /Users/erikaatsumi-stewart/opt/anaconda3/lib/python3.8/site-packages (from xgboost) (1.20.1)\r\n",
      "Requirement already satisfied: scipy in /Users/erikaatsumi-stewart/opt/anaconda3/lib/python3.8/site-packages (from xgboost) (1.6.2)\r\n"
     ]
    }
   ],
   "source": [
    "!pip install xgboost"
   ]
  },
  {
   "cell_type": "code",
   "execution_count": 50,
   "id": "ef39c86c",
   "metadata": {},
   "outputs": [
    {
     "name": "stdout",
     "output_type": "stream",
     "text": [
      "Collecting package metadata (current_repodata.json): done\n",
      "Solving environment: done\n",
      "\n",
      "# All requested packages already installed.\n",
      "\n"
     ]
    }
   ],
   "source": [
    "!conda install -c conda-forge xgboost -y"
   ]
  },
  {
   "cell_type": "code",
   "execution_count": 30,
   "id": "f4ed2277",
   "metadata": {},
   "outputs": [],
   "source": [
    "from xgboost import XGBRegressor"
   ]
  },
  {
   "cell_type": "code",
   "execution_count": 31,
   "id": "aa2c7e40",
   "metadata": {},
   "outputs": [
    {
     "name": "stdout",
     "output_type": "stream",
     "text": [
      "1.4954615389106858\n"
     ]
    }
   ],
   "source": [
    "SINGLE_xgboost_model = XGBRegressor(random_state=0)\n",
    "SINGLE_xgboost_model.fit(X,y)\n",
    "\n",
    "predictions = SINGLE_xgboost_model.predict(X)\n",
    "print(mean_absolute_error(y, predictions))"
   ]
  },
  {
   "cell_type": "markdown",
   "id": "969ec8c6",
   "metadata": {},
   "source": [
    "## 8b) SPLITTIG DATASET INTO TRAINING AND TESTING DATASETS FOR XG BOOST REGRESSOR"
   ]
  },
  {
   "cell_type": "code",
   "execution_count": 32,
   "id": "4118b5cc",
   "metadata": {},
   "outputs": [
    {
     "name": "stdout",
     "output_type": "stream",
     "text": [
      "138.1234850971639\n"
     ]
    }
   ],
   "source": [
    "# cut_off = 550\n",
    "train_X = X.iloc[0:550]\n",
    "train_y = y.iloc[0:550]\n",
    "val_X = X.iloc[550:]\n",
    "val_y = y.iloc[550:]  \n",
    "\n",
    "SINGLE_xgboost_model = XGBRegressor()\n",
    "SINGLE_xgboost_model.fit(train_X,train_y)\n",
    "\n",
    "val_predictions = SINGLE_xgboost_model.predict(val_X)\n",
    "print(mean_absolute_error(val_y, val_predictions))"
   ]
  },
  {
   "cell_type": "markdown",
   "id": "65f193fc",
   "metadata": {},
   "source": [
    "## 9) CONCLUSION FROM 'MEAN ABSOLUTE ERRORS' \n",
    "## RANDOM FOREST MODEL WORKS BEST FOR THIS FORECASTING \n",
    "### SPLIT TEST MEAN ABSOLUTE ERROR COMPARITON:\n",
    "### DECISION TREE MODEL: 126\n",
    "### RANDOM FOREST MODEL: 115\n",
    "### XG BOOST MODEL: 138"
   ]
  },
  {
   "cell_type": "markdown",
   "id": "296898f1",
   "metadata": {},
   "source": [
    "## 10) MULTIVARIABLE LINEAR REGRESSION MODEL"
   ]
  },
  {
   "cell_type": "code",
   "execution_count": 34,
   "id": "dd94d563",
   "metadata": {},
   "outputs": [],
   "source": [
    "from sklearn.linear_model import LinearRegression\n",
    "Single_linear_regression = LinearRegression()\n",
    "# fit the data(train the model)\n",
    "Single_linear_regression.fit(X, y)\n",
    "# predict\n",
    "y_predicted = Single_linear_regression.predict(X)"
   ]
  },
  {
   "cell_type": "code",
   "execution_count": 35,
   "id": "e81db8ce",
   "metadata": {},
   "outputs": [],
   "source": [
    "# cut_off = 550\n",
    "train_X = X.iloc[0:550]\n",
    "train_y = y.iloc[0:550]\n",
    "val_X = X.iloc[550:]\n",
    "val_y = y.iloc[550:]  \n",
    "\n",
    "SINGLE_linear_regression = LinearRegression()\n",
    "SINGLE_linear_regression.fit(train_X,train_y)\n",
    "\n",
    "val_predictions = SINGLE_linear_regression.predict(val_X)"
   ]
  },
  {
   "cell_type": "markdown",
   "id": "a16ce16c",
   "metadata": {},
   "source": [
    "## 10a) CALCULATING R-SQUARED AND MSE OF THE LINEAR VARIABLE MODEL EQUATION"
   ]
  },
  {
   "cell_type": "code",
   "execution_count": 36,
   "id": "d258eb74",
   "metadata": {
    "scrolled": true
   },
   "outputs": [
    {
     "name": "stdout",
     "output_type": "stream",
     "text": [
      "R-Squared is:  0.6160604133815305\n",
      "Mean Squared Error is:  2923.737949131851\n"
     ]
    }
   ],
   "source": [
    "from sklearn.metrics import r2_score, mean_squared_error\n",
    "R2 = r2_score(val_y, val_predictions)\n",
    "print('R-Squared is: ', R2)\n",
    "rmse = mean_squared_error(val_y, val_predictions)\n",
    "print('Mean Squared Error is: ', rmse)"
   ]
  },
  {
   "cell_type": "markdown",
   "id": "f7d43886",
   "metadata": {},
   "source": [
    "R-SQUARED IS 61.6%...WHICH IS OK...\n",
    "MSE IS VERY HIGH...TRY NORMALIZING THE FEATURE INPUTS!! "
   ]
  },
  {
   "cell_type": "markdown",
   "id": "1afde15c",
   "metadata": {},
   "source": [
    "## 10b) NORMALIZING THE FEATURE INPUTS TO THE SAME SCALE TO IMPROVE THE MODEL"
   ]
  },
  {
   "cell_type": "code",
   "execution_count": 37,
   "id": "8686aa84",
   "metadata": {},
   "outputs": [
    {
     "name": "stdout",
     "output_type": "stream",
     "text": [
      "          CPI      BOND    CRYPTO  CHINA EX RATE  SWISS EX RATE       OIL\n",
      "0    1.421170  0.955976  1.417931       1.346681      -0.508126  1.745937\n",
      "1    1.421170  0.955976  1.417931       1.346681      -0.508126  1.745937\n",
      "2    1.421170  0.990842  1.337531       1.336585      -0.422611  1.546699\n",
      "3    1.421170  0.938543  1.417852       1.313027      -0.643295  1.591344\n",
      "4    1.421170  0.886244  1.404439       1.264230      -0.563297  1.628660\n",
      "..        ...       ...       ...            ...            ...       ...\n",
      "664 -0.329774  2.507516 -0.801480       0.101501       1.671130  0.233323\n",
      "665 -0.329774  2.559815 -0.804643       0.076261       1.709749  0.239320\n",
      "666 -0.329774  2.542382 -0.805038       0.126741       1.731818  0.215998\n",
      "667 -0.329774  2.524949 -0.803787       0.121693       1.814574  0.123375\n",
      "668 -1.205246  2.577248 -0.804061       0.032511       1.894572  0.118045\n",
      "\n",
      "[669 rows x 6 columns]\n"
     ]
    }
   ],
   "source": [
    "from sklearn.preprocessing import StandardScaler\n",
    "\n",
    "scaler = StandardScaler()\n",
    "X_scaled = pd.DataFrame(scaler.fit_transform(X),columns = X.columns)\n",
    "print(X_scaled)"
   ]
  },
  {
   "cell_type": "markdown",
   "id": "d9dbc21b",
   "metadata": {},
   "source": [
    "## 10c) RE-CALCULATING THE MODEL'S R-SQUARED AND MSE USING NORMALIZED FEATURE INPUTS"
   ]
  },
  {
   "cell_type": "code",
   "execution_count": 38,
   "id": "873e5fbc",
   "metadata": {},
   "outputs": [],
   "source": [
    "Single_linear_regression_normal = LinearRegression()\n",
    "# fit the data(train the model)\n",
    "Single_linear_regression_normal.fit(X, y)\n",
    "# predict\n",
    "y_predicted = Single_linear_regression_normal.predict(X)"
   ]
  },
  {
   "cell_type": "code",
   "execution_count": 40,
   "id": "0a8760d8",
   "metadata": {},
   "outputs": [],
   "source": [
    "# cut_off = 550\n",
    "train_X_scaled = X_scaled.iloc[0:550]\n",
    "train_y = y.iloc[0:550]\n",
    "val_X_scaled = X_scaled.iloc[550:]\n",
    "val_y = y.iloc[550:]  \n",
    "\n",
    "SINGLE_linear_regression_normal = LinearRegression()\n",
    "SINGLE_linear_regression_normal.fit(train_X_scaled,train_y)\n",
    "\n",
    "val_predictions = SINGLE_linear_regression_normal.predict(val_X_scaled)"
   ]
  },
  {
   "cell_type": "code",
   "execution_count": 41,
   "id": "1a819475",
   "metadata": {},
   "outputs": [
    {
     "name": "stdout",
     "output_type": "stream",
     "text": [
      "R-Squared is:  0.6160604133813649\n",
      "Mean Squared Error is:  2923.7379491331126\n"
     ]
    }
   ],
   "source": [
    "from sklearn.metrics import r2_score, mean_squared_error\n",
    "R2 = r2_score(val_y, val_predictions)\n",
    "print('R-Squared is: ', R2)\n",
    "rmse = mean_squared_error(val_y, val_predictions)\n",
    "print('Mean Squared Error is: ', rmse)"
   ]
  },
  {
   "cell_type": "markdown",
   "id": "d623933e",
   "metadata": {},
   "source": [
    "Normalizing the featured inputs did not improve the model...\n",
    "It did not change results at all :( "
   ]
  },
  {
   "cell_type": "markdown",
   "id": "29fcc210",
   "metadata": {},
   "source": [
    "## 10d) THE COEFFICIENTS AND Y-INTERCEPT OF THE LINEAR REGRESSION MODEL EQUATION"
   ]
  },
  {
   "cell_type": "code",
   "execution_count": 42,
   "id": "7c3b8306",
   "metadata": {},
   "outputs": [
    {
     "name": "stdout",
     "output_type": "stream",
     "text": [
      "[ 4.65521139e+01 -1.21211669e+02  2.56169273e-02 -9.93417659e+03\n",
      " -3.46213476e+03  5.04987506e-01]\n",
      "6484.637085602542\n"
     ]
    }
   ],
   "source": [
    "print(SINGLE_linear_regression.coef_)\n",
    "print(SINGLE_linear_regression.intercept_)"
   ]
  },
  {
   "cell_type": "markdown",
   "id": "2deb696a",
   "metadata": {},
   "source": [
    "## 10e) USING THE LINEAR MODEL, FORECASTING TODAY'S CLOSING GOLD PRICE WITH YESTERDAY'S INPUTS..."
   ]
  },
  {
   "cell_type": "markdown",
   "id": "ff794fd3",
   "metadata": {},
   "source": [
    "As a sanity check, I decided to manually input Jan 13th, 2022 data to make sure the model provides reasonable gold price forecast for Jan 14th, 2022."
   ]
  },
  {
   "cell_type": "markdown",
   "id": "c9fff28f",
   "metadata": {},
   "source": [
    "THE LINEAR MODEL EQUATION:\n",
    "\n",
    "GOLD PRICE FORECAST =  \n",
    "6484.6 + (4.65521139e+01)CPI + (-1.21211669e+02)BOND + (2.56169273e-02)CRYPTO + (-9.93417659e+03)CHINA_EX_RATE + (-3.46213476e+03)SWISS_EX_RATE + (5.04987506e-01)OIL_PRICE\n",
    "\n",
    "January 13th closing inputs:\n",
    "\n",
    "CPI = 0.5\n",
    "\n",
    "BOND = 1.47\n",
    "\n",
    "CRYPTO = 3276.9\n",
    "\n",
    "CHINA_EX_RATE = 0.15657 \n",
    "\n",
    "SWISS_EX_RATE = .9104\n",
    "\n",
    "OIL_PRICE = 82.12"
   ]
  },
  {
   "cell_type": "code",
   "execution_count": 1,
   "id": "42cdc13e",
   "metadata": {},
   "outputs": [
    {
     "name": "stdout",
     "output_type": "stream",
     "text": [
      "THE LINEAR MODEL SAYS GOLD PRICE SHOULD CLOSE AT USD 1748 ON FRIDAY, JANUARY 14, 2022\n"
     ]
    }
   ],
   "source": [
    "GOLD_TODAY_FORECAST = 6484.6 + (4.65521139e+01)*(0.5) + (-1.21211669e+02)*(1.47) + (2.56169273e-02)*(3276.9) + (-9.93417659e+03)*(0.15657) + (-3.46213476e+03)*(.9104) + (5.04987506e-01)*(82.12)\n",
    "print (\"THE LINEAR MODEL SAYS GOLD PRICE SHOULD CLOSE AT USD\",round(GOLD_TODAY_FORECAST), 'ON FRIDAY, JANUARY 14, 2022')"
   ]
  },
  {
   "cell_type": "markdown",
   "id": "024de43c",
   "metadata": {},
   "source": [
    "This is a reasonable estimate. It's not a ridiculous number for gold price. \n",
    "\n",
    "However, \n",
    "\n",
    "GOLD PRICE actually closed at USD1816.4 on Friday, January 14th, 2022, a -0.003% change from USD1821.4 on Thursday, January 13th, 2022. "
   ]
  },
  {
   "cell_type": "code",
   "execution_count": 4,
   "id": "90399c14",
   "metadata": {},
   "outputs": [
    {
     "name": "stdout",
     "output_type": "stream",
     "text": [
      "THE MODEL FORECAST IS OFF BY -3.77741288362752 %.\n"
     ]
    }
   ],
   "source": [
    "OFF = ((GOLD_TODAY_FORECAST-1816.4)/1816.4)*100\n",
    "print(\"THE MODEL FORECAST IS OFF BY\",OFF, \"%.\")\n"
   ]
  },
  {
   "cell_type": "markdown",
   "id": "6fa55351",
   "metadata": {},
   "source": [
    "This is quite a bit off. The model is not accurate enough to be used as an investment tool."
   ]
  },
  {
   "cell_type": "markdown",
   "id": "16d273df",
   "metadata": {},
   "source": [
    "## CONCLUSION\n",
    "## With R-square of 62%, we cannot rely on our 'ML  goose' to lay golden eggs."
   ]
  },
  {
   "cell_type": "markdown",
   "id": "b78ff5e8",
   "metadata": {},
   "source": [
    "## <font color='orange'>Lastly, I would like to express my gratitude to Om and Tushar for their guidance and to Anan for his offer to help! </font> "
   ]
  },
  {
   "cell_type": "markdown",
   "id": "d75f1a36",
   "metadata": {},
   "source": [
    "![title](http://localhost:8888/files/Final%20Project%20-%20Gold%20Price%20Prediction/goosepdf.pdf)"
   ]
  },
  {
   "cell_type": "code",
   "execution_count": null,
   "id": "bc6fa2aa",
   "metadata": {},
   "outputs": [],
   "source": []
  }
 ],
 "metadata": {
  "kernelspec": {
   "display_name": "Python 3",
   "language": "python",
   "name": "python3"
  },
  "language_info": {
   "codemirror_mode": {
    "name": "ipython",
    "version": 3
   },
   "file_extension": ".py",
   "mimetype": "text/x-python",
   "name": "python",
   "nbconvert_exporter": "python",
   "pygments_lexer": "ipython3",
   "version": "3.8.8"
  }
 },
 "nbformat": 4,
 "nbformat_minor": 5
}
